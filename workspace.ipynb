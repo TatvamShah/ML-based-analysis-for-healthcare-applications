{
  "nbformat": 4,
  "nbformat_minor": 0,
  "metadata": {
    "colab": {
      "name": "workspace.ipynb",
      "provenance": [],
      "collapsed_sections": [
        "nQl1y5vW0tQq"
      ]
    },
    "kernelspec": {
      "name": "python3",
      "display_name": "Python 3"
    },
    "language_info": {
      "name": "python"
    }
  },
  "cells": [
    {
      "cell_type": "markdown",
      "source": [
        "# **Respiratory Sound Classification** Based on BiGRU-Attention Network with XGBoost\n"
      ],
      "metadata": {
        "id": "kkdAoaPz7bT0"
      }
    },
    {
      "cell_type": "markdown",
      "source": [
        "### Importing Packages"
      ],
      "metadata": {
        "id": "nQl1y5vW0tQq"
      }
    },
    {
      "cell_type": "code",
      "source": [
        "!pip install pyACA"
      ],
      "metadata": {
        "colab": {
          "base_uri": "https://localhost:8080/"
        },
        "id": "GxD6A1OFW8XB",
        "outputId": "37c2dead-306f-4806-cd52-098c6e583e98"
      },
      "execution_count": null,
      "outputs": [
        {
          "output_type": "stream",
          "name": "stdout",
          "text": [
            "Collecting pyACA\n",
            "  Downloading pyACA-0.3.1-py3-none-any.whl (57 kB)\n",
            "\u001b[?25l\r\u001b[K     |█████▊                          | 10 kB 16.2 MB/s eta 0:00:01\r\u001b[K     |███████████▌                    | 20 kB 19.4 MB/s eta 0:00:01\r\u001b[K     |█████████████████▎              | 30 kB 10.7 MB/s eta 0:00:01\r\u001b[K     |███████████████████████         | 40 kB 8.8 MB/s eta 0:00:01\r\u001b[K     |████████████████████████████▊   | 51 kB 7.7 MB/s eta 0:00:01\r\u001b[K     |████████████████████████████████| 57 kB 2.6 MB/s \n",
            "\u001b[?25hRequirement already satisfied: numpy in /usr/local/lib/python3.7/dist-packages (from pyACA) (1.21.5)\n",
            "Requirement already satisfied: matplotlib in /usr/local/lib/python3.7/dist-packages (from pyACA) (3.2.2)\n",
            "Requirement already satisfied: scipy in /usr/local/lib/python3.7/dist-packages (from pyACA) (1.4.1)\n",
            "Requirement already satisfied: python-dateutil>=2.1 in /usr/local/lib/python3.7/dist-packages (from matplotlib->pyACA) (2.8.2)\n",
            "Requirement already satisfied: pyparsing!=2.0.4,!=2.1.2,!=2.1.6,>=2.0.1 in /usr/local/lib/python3.7/dist-packages (from matplotlib->pyACA) (3.0.7)\n",
            "Requirement already satisfied: kiwisolver>=1.0.1 in /usr/local/lib/python3.7/dist-packages (from matplotlib->pyACA) (1.4.0)\n",
            "Requirement already satisfied: cycler>=0.10 in /usr/local/lib/python3.7/dist-packages (from matplotlib->pyACA) (0.11.0)\n",
            "Requirement already satisfied: typing-extensions in /usr/local/lib/python3.7/dist-packages (from kiwisolver>=1.0.1->matplotlib->pyACA) (3.10.0.2)\n",
            "Requirement already satisfied: six>=1.5 in /usr/local/lib/python3.7/dist-packages (from python-dateutil>=2.1->matplotlib->pyACA) (1.15.0)\n",
            "Installing collected packages: pyACA\n",
            "Successfully installed pyACA-0.3.1\n"
          ]
        }
      ]
    },
    {
      "cell_type": "code",
      "source": [
        "import os\n",
        "import pandas as pd\n",
        "import numpy as np\n",
        "import math\n",
        "import matplotlib.pyplot as plt\n",
        "import seaborn as sns\n",
        "import pyACA\n",
        "import sklearn\n",
        "from sklearn import preprocessing\n",
        "from sklearn import model_selection\n",
        "from sklearn.model_selection import train_test_split as tts\n",
        "from sklearn import metrics\n",
        "from sklearn.utils import shuffle\n",
        "from xgboost import XGBClassifier as XGB\n",
        "import librosa\n",
        "import librosa.display\n",
        "import IPython.display as ipd\n",
        "from tqdm import tqdm\n",
        "\n",
        "import warnings\n",
        "warnings.filterwarnings(\"ignore\")"
      ],
      "metadata": {
        "id": "m4Ve9bNx0Kpw"
      },
      "execution_count": null,
      "outputs": []
    },
    {
      "cell_type": "code",
      "source": [
        "from google.colab import drive\n",
        "drive.mount('/content/drive')"
      ],
      "metadata": {
        "id": "RV-q0Jnu-08K",
        "colab": {
          "base_uri": "https://localhost:8080/"
        },
        "outputId": "82c44272-7c32-4069-c085-f6cf18c9b62e"
      },
      "execution_count": null,
      "outputs": [
        {
          "output_type": "stream",
          "name": "stdout",
          "text": [
            "Mounted at /content/drive\n"
          ]
        }
      ]
    },
    {
      "cell_type": "markdown",
      "source": [
        "## 1. **Feature Extraction**\n",
        "We will be using following features for the classification purpose :\n",
        "* Short-term Average Energy\n",
        "* Short-term Average Zero-crossing Rate\n",
        "* Spectral Centroid\n",
        "* Spectral Slope\n",
        "* Spectral Contrast\n",
        "* RMS Energy\n",
        "* Chromaticity\n",
        "* MFCC"
      ],
      "metadata": {
        "id": "ZhgxYd6Qz-Nl"
      }
    },
    {
      "cell_type": "code",
      "source": [
        "dir_path = '/content/drive/MyDrive/ML_DC_Project/dc_dataset/'\n",
        "csv_path = '/content/drive/MyDrive/ML_DC_Project/mldata.csv'\n",
        "np_dir = '/content/drive/MyDrive/ML_DC_Project/np_arrays/'\n",
        "final_dataset = '/content/drive/MyDrive/ML_DC_Project/final_dataset/'\n",
        "\n",
        "f_start = 101\n",
        "f_end = 639"
      ],
      "metadata": {
        "id": "HZyO9hNK-EDt"
      },
      "execution_count": null,
      "outputs": []
    },
    {
      "cell_type": "code",
      "source": [
        "FRAME_LENGTH = 1024\n",
        "HOP_LENGTH = 512\n",
        "\n",
        "def SpectralSlope(data, sr, hop_length):\n",
        "    ss = []\n",
        "    for i in range(0,len(data),512):\n",
        "        slice = data[i:i+512]\n",
        "        s = pyACA.FeatureSpectralSlope(slice, f_s=sr)\n",
        "        ss.append(s*512)\n",
        "    return np.array(ss)\n",
        "\n",
        "def grad(arr):\n",
        "    arr = np.array(arr)\n",
        "    grad_arr = []\n",
        "    for i in range(arr.shape[0]):\n",
        "        grad_arr.append(np.gradient(arr[i]))\n",
        "    return np.array(grad_arr)\n",
        "\n",
        "def extract_features(file_path: str, frame_length, hop_length):\n",
        "\n",
        "    audio_signal, sr = librosa.load(file_path)\n",
        "\n",
        "    stft = np.abs(librosa.stft(audio_signal))\n",
        "    mfccs_features = librosa.feature.mfcc(audio_signal, sr=sr, n_mfcc=12)\n",
        "    # mfccs_scaled_features = np.mean(mfccs_features.T, axis=0)\n",
        "    mfccs_grad = grad(mfccs_features)\n",
        "    all_mfccs = np.concatenate((mfccs_features,mfccs_grad))\n",
        "    # chroma = np.mean(librosa.feature.chroma_stft(S=stft, sr=sr).T, axis=0)\n",
        "    chroma = librosa.feature.chroma_stft(S=stft, sr=sr)\n",
        "    # contrast = np.mean(librosa.feature.spectral_contrast(S=stft, sr=sr).T, axis=0)\n",
        "    contrast = librosa.feature.spectral_contrast(S=stft, sr=sr)\n",
        "    zcr = frame_length*(librosa.feature.zero_crossing_rate(audio_signal, frame_length=frame_length, hop_length=hop_length)[0])\n",
        "    rms = librosa.feature.rms(audio_signal, frame_length=frame_length, hop_length=hop_length)[0]\n",
        "    spectral_centroid = librosa.feature.spectral_centroid(audio_signal, sr=sr, n_fft=frame_length, hop_length=hop_length)[0]\n",
        "    spectral_slope = SpectralSlope(audio_signal, sr, hop_length)\n",
        "\n",
        "    return [zcr, rms, spectral_centroid, all_mfccs, chroma, contrast, spectral_slope]\n"
      ],
      "metadata": {
        "id": "zCmOMUMbCzd6"
      },
      "execution_count": null,
      "outputs": []
    },
    {
      "cell_type": "markdown",
      "source": [
        "Note : 3 cells below are not to be run again as the dataset is already stored in .npz files"
      ],
      "metadata": {
        "id": "tVCnzTnaw9JA"
      }
    },
    {
      "cell_type": "code",
      "source": [
        "# FRAME_LENGTH = 1024\n",
        "# HOP_LENGTH = 512\n",
        "\n",
        "# for patient in tqdm(range(f_start,f_end+1), 'Extraction Progress '):\n",
        "#   file_name = os.path.join(os.path.abspath(dir_path)+'/'+str(patient)+'.wav')\n",
        "#   extracted_arrs = extract_features(file_name,FRAME_LENGTH,HOP_LENGTH)\n",
        "#   np.savez(np_dir+str(patient)+'.npz',zcr = extracted_arrs[0],rms = extracted_arrs[1],spectral_centroid = extracted_arrs[2],\\\n",
        "#            mfcc = extracted_arrs[3], chroma = extracted_arrs[4],spectral_contrast = extracted_arrs[5], spectral_slope=extracted_arrs[6])"
      ],
      "metadata": {
        "id": "-Dsw1PYMU35N",
        "colab": {
          "base_uri": "https://localhost:8080/"
        },
        "outputId": "bc22e8e6-d1e0-4a86-fb69-0e70371a28a3"
      },
      "execution_count": null,
      "outputs": [
        {
          "output_type": "stream",
          "name": "stderr",
          "text": [
            "Extraction Progress : 100%|██████████| 539/539 [10:59<00:00,  1.22s/it]\n"
          ]
        }
      ]
    },
    {
      "cell_type": "code",
      "source": [
        "# data_3d = []\n",
        "\n",
        "# for patient in range(f_start,f_end+1):\n",
        "#     arrs = np.load(np_dir+str(patient)+'.npz')\n",
        "#     final = []\n",
        "#     for i in arrs:\n",
        "#         f_arr = None\n",
        "#         if patient==f_start:\n",
        "#             print(i,arrs[i].shape)\n",
        "#         if arrs[i].shape[0]<100:\n",
        "#             for ar in arrs[i]:\n",
        "#                 f_arr = ar\n",
        "#                 if f_arr.shape[0]<862:\n",
        "#                     new_f = np.zeros(862)\n",
        "#                     for ii in range(f_arr.shape[0]):\n",
        "#                         new_f[ii] = f_arr[ii]\n",
        "#                     final.append(new_f)\n",
        "#                 else:\n",
        "#                     final.append(f_arr[:862])\n",
        "#         else:\n",
        "#             f_arr = arrs[i]\n",
        "#             if f_arr.shape[0]<862:\n",
        "#                 new_f = np.zeros(862)\n",
        "#                 for ii in range(f_arr.shape[0]):\n",
        "#                     new_f[ii] = f_arr[ii]\n",
        "#                 final.append(new_f)\n",
        "#             else:\n",
        "#                 final.append(f_arr[:862])\n",
        "    \n",
        "#     final = np.array(final).T\n",
        "#     np.save(final_dataset+str(patient)+'.npy',final)\n",
        "#     data_3d.append(final)\n",
        "\n",
        "# data_3d = np.array(data_3d)\n",
        "# df = {'features':data_3d}"
      ],
      "metadata": {
        "colab": {
          "base_uri": "https://localhost:8080/"
        },
        "id": "y9OW_WDixMac",
        "outputId": "8840bb47-f7e2-4d58-89eb-fc2ba234ec64"
      },
      "execution_count": null,
      "outputs": [
        {
          "output_type": "stream",
          "name": "stdout",
          "text": [
            "zcr (862,)\n",
            "rms (862,)\n",
            "spectral_centroid (862,)\n",
            "mfcc (24, 862)\n",
            "chroma (12, 862)\n",
            "spectral_contrast (7, 862)\n",
            "spectral_slope (862,)\n"
          ]
        }
      ]
    },
    {
      "cell_type": "code",
      "source": [
        "# print(data_3d.shape)"
      ],
      "metadata": {
        "colab": {
          "base_uri": "https://localhost:8080/"
        },
        "id": "seAbd8VQ6yDO",
        "outputId": "75888bea-3f85-4d63-9d7d-89f07ffaa35b"
      },
      "execution_count": null,
      "outputs": [
        {
          "output_type": "stream",
          "name": "stdout",
          "text": [
            "(539, 862, 47)\n"
          ]
        }
      ]
    },
    {
      "cell_type": "markdown",
      "source": [
        "## **Bi-LSTM**"
      ],
      "metadata": {
        "id": "ch7-ng7HzwLF"
      }
    },
    {
      "cell_type": "code",
      "source": [
        ""
      ],
      "metadata": {
        "id": "V1mvVKt6zvQi"
      },
      "execution_count": null,
      "outputs": []
    }
  ]
}